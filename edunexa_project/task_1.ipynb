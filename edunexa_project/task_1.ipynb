{
 "cells": [
  {
   "cell_type": "code",
   "execution_count": 1,
   "id": "84bc4119",
   "metadata": {},
   "outputs": [
    {
     "name": "stdout",
     "output_type": "stream",
     "text": [
      "  First Name   Last Name    Country Car Brand     Car Model Car Color  \\\n",
      "0      Yetty         NaN  Indonesia      Ford    Club Wagon      Teal   \n",
      "1    Crystal    Bosworth      China  Cadillac  Escalade ESV    Fuscia   \n",
      "2      Monro    Houdhury  Indonesia     Mazda    Miata MX-5    Orange   \n",
      "3      Bowie       Clair      China      Audi            A4    Orange   \n",
      "4     Myrvyn  McAllister        NaN    Nissan        Maxima      Pink   \n",
      "\n",
      "   Year of Manufacture Credit Card Type Fuel Type  \n",
      "0               1993.0       mastercard    Diesel  \n",
      "1               2007.0       mastercard    Petrol  \n",
      "2               2009.0          maestro    Petrol  \n",
      "3               2005.0     instapayment    Petrol  \n",
      "4               1994.0          maestro    Diesel  \n",
      "       Year of Manufacture\n",
      "count           492.000000\n",
      "mean           2000.162602\n",
      "std               8.605757\n",
      "min            1959.000000\n",
      "25%            1995.000000\n",
      "50%            2001.000000\n",
      "75%            2007.000000\n",
      "max            2013.000000\n"
     ]
    }
   ],
   "source": [
    "import pandas as pd\n",
    "df = pd.read_csv('cars.csv',na_values=[\"????\",\"###\",\"??\"])\n",
    "print(df.head())\n",
    "print(df.describe())"
   ]
  },
  {
   "cell_type": "code",
   "execution_count": null,
   "id": "2abae59b",
   "metadata": {},
   "outputs": [],
   "source": []
  }
 ],
 "metadata": {
  "kernelspec": {
   "display_name": "Python 3 (ipykernel)",
   "language": "python",
   "name": "python3"
  },
  "language_info": {
   "codemirror_mode": {
    "name": "ipython",
    "version": 3
   },
   "file_extension": ".py",
   "mimetype": "text/x-python",
   "name": "python",
   "nbconvert_exporter": "python",
   "pygments_lexer": "ipython3",
   "version": "3.11.5"
  }
 },
 "nbformat": 4,
 "nbformat_minor": 5
}
